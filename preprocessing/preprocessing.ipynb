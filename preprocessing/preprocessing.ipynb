{
 "cells": [
  {
   "cell_type": "code",
   "execution_count": 1,
   "metadata": {},
   "outputs": [],
   "source": [
    "import json"
   ]
  },
  {
   "cell_type": "code",
   "execution_count": 2,
   "metadata": {},
   "outputs": [],
   "source": [
    "f = open(\"../data/abcd_v1.1.json\")\n",
    "data = json.load(f)"
   ]
  },
  {
   "cell_type": "code",
   "execution_count": 3,
   "metadata": {},
   "outputs": [
    {
     "data": {
      "text/plain": [
       "dict_keys(['train', 'dev', 'test'])"
      ]
     },
     "execution_count": 3,
     "metadata": {},
     "output_type": "execute_result"
    }
   ],
   "source": [
    "data.keys()"
   ]
  },
  {
   "cell_type": "code",
   "execution_count": 4,
   "metadata": {},
   "outputs": [
    {
     "data": {
      "text/plain": [
       "[['agent', 'Hi!'],\n",
       " ['agent', 'How can I help you?'],\n",
       " ['customer', 'Hi! I need to return an item, can you help me with that?'],\n",
       " ['agent', 'sure, may I have your name please?'],\n",
       " ['customer', 'Crystal Minh'],\n",
       " ['agent', 'thanks, may I ask the reason for the return?'],\n",
       " ['action', 'Account has been pulled up for Crystal Minh.'],\n",
       " ['customer', 'I got the wrong size.'],\n",
       " ['agent', 'ok, may I have your username, email address and order ID please?'],\n",
       " ['customer', 'Username: cminh730'],\n",
       " ['customer', 'cminh730@email.com'],\n",
       " ['customer', 'Order ID: 3348917502'],\n",
       " ['action', 'Purchase validation in progress ...'],\n",
       " ['agent', 'thanks so much! What is your membership level Crystal?'],\n",
       " ['customer', \"I'm a bronze\"],\n",
       " ['agent', 'ok, was the purchase made in the last 90 days?'],\n",
       " ['customer', 'No, I bought it in November.'],\n",
       " ['agent',\n",
       "  'ok, unfortunately because it has been more than 90 days we cannot accept the return. Would there be anything else I can help you with?'],\n",
       " ['customer', 'What if I ask really, really nicely?'],\n",
       " ['agent', \"I can escalate to my manager if you'd like\"],\n",
       " ['agent', \"I'd just need your phone number.\"],\n",
       " ['customer', '(977) 625-2661'],\n",
       " ['action', 'Details of (977) 625-2661 have been entered.'],\n",
       " ['action', 'The manager has been notified.'],\n",
       " ['customer', \"I'll look forward to hearing from them.\"],\n",
       " ['customer', 'Thanks for trying to help.'],\n",
       " ['agent',\n",
       "  \"OK, I have let my manager know, they will give you a call. Sorry I couldn't be of more assistance!\"],\n",
       " ['agent', 'Have a great night!'],\n",
       " ['customer', \"That's it. Take care.\"]]"
      ]
     },
     "execution_count": 4,
     "metadata": {},
     "output_type": "execute_result"
    }
   ],
   "source": [
    "data[\"train\"][0][\"original\"]"
   ]
  },
  {
   "cell_type": "code",
   "execution_count": 6,
   "metadata": {},
   "outputs": [],
   "source": [
    "# concatenating training data w/o action \n",
    "output_string = \"\"\n",
    "count  = 0\n",
    "for element in data[\"test\"]:\n",
    "    stringify = \"\"\n",
    "    count += 1\n",
    "    for conversation in element[\"original\"]:\n",
    "        if conversation[0] == \"action\":\n",
    "            continue\n",
    "        stringify = f\"\"\"{stringify} {conversation[0]}: {conversation[1]}\"\"\"\n",
    "    output_string = output_string +\"\\n\"+stringify.strip()\n",
    "\n",
    "with open(\"test_output.txt\", \"w\") as text_file:\n",
    "    text_file.write(output_string.strip())\n"
   ]
  },
  {
   "cell_type": "code",
   "execution_count": 6,
   "metadata": {},
   "outputs": [],
   "source": [
    "# concatenating action to the training data\n",
    "output_string = \"\"\n",
    "count  = 0\n",
    "for element in data[\"dev\"]:\n",
    "    stringify = \"\"\n",
    "    count += 1\n",
    "    for conversation in element[\"original\"]:\n",
    "        stringify = f\"\"\"{stringify} {conversation[0]}: {conversation[1]}\"\"\"\n",
    "    output_string = output_string +\"\\n\"+stringify.strip()\n",
    "\n",
    "with open(\"dev_action.txt\", \"w\") as text_file:\n",
    "    text_file.write(output_string.strip())"
   ]
  },
  {
   "cell_type": "code",
   "execution_count": 18,
   "metadata": {},
   "outputs": [
    {
     "data": {
      "text/plain": [
       "8034"
      ]
     },
     "execution_count": 18,
     "metadata": {},
     "output_type": "execute_result"
    }
   ],
   "source": [
    "count"
   ]
  },
  {
   "cell_type": "code",
   "execution_count": 20,
   "metadata": {},
   "outputs": [
    {
     "data": {
      "text/plain": [
       "8034"
      ]
     },
     "execution_count": 20,
     "metadata": {},
     "output_type": "execute_result"
    }
   ],
   "source": [
    "len(data[\"train\"])"
   ]
  },
  {
   "cell_type": "code",
   "execution_count": null,
   "metadata": {},
   "outputs": [],
   "source": []
  }
 ],
 "metadata": {
  "kernelspec": {
   "display_name": "base",
   "language": "python",
   "name": "python3"
  },
  "language_info": {
   "codemirror_mode": {
    "name": "ipython",
    "version": 3
   },
   "file_extension": ".py",
   "mimetype": "text/x-python",
   "name": "python",
   "nbconvert_exporter": "python",
   "pygments_lexer": "ipython3",
   "version": "3.10.9"
  },
  "orig_nbformat": 4
 },
 "nbformat": 4,
 "nbformat_minor": 2
}
