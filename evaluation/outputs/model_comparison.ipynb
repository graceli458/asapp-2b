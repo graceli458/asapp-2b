{
 "cells": [
  {
   "cell_type": "code",
   "execution_count": 2,
   "metadata": {},
   "outputs": [],
   "source": [
    "import pandas as pd\n",
    "import numpy as np"
   ]
  },
  {
   "cell_type": "code",
   "execution_count": 6,
   "metadata": {},
   "outputs": [],
   "source": [
    "medium_action_eval2 = pd.read_excel(\"./concat/gpt2-medium-action_eval2.xlsx\")\n",
    "medium_noaction_eval2 = pd.read_excel(\"./concat/gpt2-medium-noaction_eval2.xlsx\")\n",
    "distilgpt_action_eval2 = pd.read_excel(\"./concat/output_distilgpt2-action_eval2.xlsx\")\n",
    "distilgpt_noaction_eval2 = pd.read_excel(\"./concat/output_distilgpt2-no-action_eval2.xlsx\")"
   ]
  },
  {
   "cell_type": "code",
   "execution_count": 7,
   "metadata": {},
   "outputs": [],
   "source": [
    "medium_action_eval2[medium_action_eval2[\"BERT_f1\"] < 0] = 0\n",
    "medium_noaction_eval2[medium_noaction_eval2[\"BERT_f1\"] < 0] = 0\n",
    "distilgpt_action_eval2[distilgpt_action_eval2[\"BERT_f1\"] < 0] = 0\n",
    "distilgpt_noaction_eval2[distilgpt_noaction_eval2[\"BERT_f1\"] < 0] = 0"
   ]
  },
  {
   "cell_type": "code",
   "execution_count": 8,
   "metadata": {},
   "outputs": [
    {
     "name": "stdout",
     "output_type": "stream",
     "text": [
      "medium_action_eval2 mean:  0.16727945537440245\n",
      "medium_noaction_eval2 mean:  0.2521525199378666\n",
      "distilgpt_action_eval2 mean:  0.16727945537440245\n",
      "distilgpt_noaction_eval2 mean:  0.17617854138827532\n"
     ]
    }
   ],
   "source": [
    "print(\"medium_action_eval2 mean: \", medium_action_eval2[\"BERT_f1\"].mean())\n",
    "print(\"medium_noaction_eval2 mean: \", medium_noaction_eval2[\"BERT_f1\"].mean())\n",
    "print(\"distilgpt_action_eval2 mean: \", distilgpt_action_eval2[\"BERT_f1\"].mean())\n",
    "print(\"distilgpt_noaction_eval2 mean: \", distilgpt_noaction_eval2[\"BERT_f1\"].mean())\n"
   ]
  },
  {
   "cell_type": "code",
   "execution_count": 9,
   "metadata": {},
   "outputs": [],
   "source": [
    "medium_action_eval1 = pd.read_excel(\"./no-concat/gpt2-medium-action_eval1.xlsx\")\n",
    "medium_noaction_eval1 = pd.read_excel(\"./no-concat/gpt2-medium-noaction_eval1.xlsx\")\n",
    "distilgpt_action_eval1 = pd.read_excel(\"./no-concat/output_distilgpt-finetuned-withaction_eval1.xlsx\")\n",
    "distilgpt_noaction_eval1 = pd.read_excel(\"./no-concat/output_distilgpt-finetuned_eval1.xlsx\")"
   ]
  },
  {
   "cell_type": "code",
   "execution_count": 10,
   "metadata": {},
   "outputs": [],
   "source": [
    "medium_action_eval1[medium_action_eval1[\"BERT_f1\"] < 0] = 0\n",
    "medium_noaction_eval1[medium_noaction_eval1[\"BERT_f1\"] < 0] = 0\n",
    "distilgpt_action_eval1[distilgpt_action_eval1[\"BERT_f1\"] < 0] = 0\n",
    "distilgpt_noaction_eval1[distilgpt_noaction_eval1[\"BERT_f1\"] < 0] = 0"
   ]
  },
  {
   "cell_type": "code",
   "execution_count": 11,
   "metadata": {},
   "outputs": [
    {
     "name": "stdout",
     "output_type": "stream",
     "text": [
      "medium_action_eval1 mean:  0.23963287604879588\n",
      "medium_noaction_eval1 mean:  0.27133386511338176\n",
      "distilgpt_action_eval1 mean:  0.202582364142756\n",
      "distilgpt_noaction_eval1 mean:  0.21247393855149857\n"
     ]
    }
   ],
   "source": [
    "print(\"medium_action_eval1 mean: \", medium_action_eval1[\"BERT_f1\"].mean())\n",
    "print(\"medium_noaction_eval1 mean: \", medium_noaction_eval1[\"BERT_f1\"].mean())\n",
    "print(\"distilgpt_action_eval1 mean: \", distilgpt_action_eval1[\"BERT_f1\"].mean())\n",
    "print(\"distilgpt_noaction_eval1 mean: \", distilgpt_noaction_eval1[\"BERT_f1\"].mean())"
   ]
  },
  {
   "cell_type": "code",
   "execution_count": null,
   "metadata": {},
   "outputs": [],
   "source": []
  }
 ],
 "metadata": {
  "kernelspec": {
   "display_name": "base",
   "language": "python",
   "name": "python3"
  },
  "language_info": {
   "codemirror_mode": {
    "name": "ipython",
    "version": 3
   },
   "file_extension": ".py",
   "mimetype": "text/x-python",
   "name": "python",
   "nbconvert_exporter": "python",
   "pygments_lexer": "ipython3",
   "version": "3.10.9"
  }
 },
 "nbformat": 4,
 "nbformat_minor": 2
}
