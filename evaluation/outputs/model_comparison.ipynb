{
 "cells": [
  {
   "cell_type": "markdown",
   "metadata": {},
   "source": [
    "# CONCAT"
   ]
  },
  {
   "cell_type": "code",
   "execution_count": 9,
   "metadata": {},
   "outputs": [],
   "source": [
    "import pandas as pd\n",
    "import numpy as np"
   ]
  },
  {
   "cell_type": "code",
   "execution_count": 11,
   "metadata": {},
   "outputs": [],
   "source": [
    "medium_action_eval2 = pd.read_excel(\"./concat/gpt2medium-action_concat.xlsx\")\n",
    "medium_noaction_eval2 = pd.read_excel(\"./concat/gpt2medium-noaction_concat.xlsx\")\n",
    "distilgpt_action_eval2 = pd.read_excel(\"./concat/distilgpt-withaction_concat.xlsx\")\n",
    "distilgpt_noaction_eval2 = pd.read_excel(\"./concat/distilgpt-noaction_concat.xlsx\")"
   ]
  },
  {
   "cell_type": "code",
   "execution_count": 12,
   "metadata": {},
   "outputs": [],
   "source": [
    "medium_action_eval2[medium_action_eval2[\"BERT_f1\"] < 0] = 0\n",
    "medium_noaction_eval2[medium_noaction_eval2[\"BERT_f1\"] < 0] = 0\n",
    "distilgpt_action_eval2[distilgpt_action_eval2[\"BERT_f1\"] < 0] = 0\n",
    "distilgpt_noaction_eval2[distilgpt_noaction_eval2[\"BERT_f1\"] < 0] = 0"
   ]
  },
  {
   "cell_type": "code",
   "execution_count": 17,
   "metadata": {},
   "outputs": [
    {
     "name": "stdout",
     "output_type": "stream",
     "text": [
      "medium_action_eval2 mean:  0.22670336880827582\n",
      "medium_noaction_eval2 mean:  0.23059316592724644\n",
      "distilgpt_action_eval2 mean:  0.1526621677387082\n",
      "distilgpt_noaction_eval2 mean:  0.1473692583097145\n"
     ]
    }
   ],
   "source": [
    "print(\"medium_action_eval2 mean: \", medium_action_eval2[\"BERT_f1\"].mean())\n",
    "print(\"medium_noaction_eval2 mean: \", medium_noaction_eval2[\"BERT_f1\"].mean())\n",
    "print(\"distilgpt_action_eval2 mean: \", distilgpt_action_eval2[\"BERT_f1\"].mean())\n",
    "print(\"distilgpt_noaction_eval2 mean: \", distilgpt_noaction_eval2[\"BERT_f1\"].mean())\n"
   ]
  },
  {
   "cell_type": "markdown",
   "metadata": {},
   "source": [
    "# NON-CONCAT"
   ]
  },
  {
   "cell_type": "code",
   "execution_count": 14,
   "metadata": {},
   "outputs": [],
   "source": [
    "medium_action_eval1 = pd.read_excel(\"./no-concat/gpt2medium-action_noconcat.xlsx\")\n",
    "medium_noaction_eval1 = pd.read_excel(\"./no-concat/gpt2medium-noaction_noconcat.xlsx\")\n",
    "distilgpt_action_eval1 = pd.read_excel(\"./no-concat/distilgpt-action_noconcat.xlsx\")\n",
    "distilgpt_noaction_eval1 = pd.read_excel(\"./no-concat/distilgpt-noaction_noconcat.xlsx\")"
   ]
  },
  {
   "cell_type": "code",
   "execution_count": 15,
   "metadata": {},
   "outputs": [],
   "source": [
    "medium_action_eval1[medium_action_eval1[\"BERT_f1\"] < 0] = 0\n",
    "medium_noaction_eval1[medium_noaction_eval1[\"BERT_f1\"] < 0] = 0\n",
    "distilgpt_action_eval1[distilgpt_action_eval1[\"BERT_f1\"] < 0] = 0\n",
    "distilgpt_noaction_eval1[distilgpt_noaction_eval1[\"BERT_f1\"] < 0] = 0"
   ]
  },
  {
   "cell_type": "code",
   "execution_count": 16,
   "metadata": {},
   "outputs": [
    {
     "name": "stdout",
     "output_type": "stream",
     "text": [
      "medium_action_eval1 mean:  0.26216833529261463\n",
      "medium_noaction_eval1 mean:  0.2596992184518769\n",
      "distilgpt_action_eval1 mean:  0.19696215105383597\n",
      "distilgpt_noaction_eval1 mean:  0.1947344402002118\n"
     ]
    }
   ],
   "source": [
    "print(\"medium_action_eval1 mean: \", medium_action_eval1[\"BERT_f1\"].mean())\n",
    "print(\"medium_noaction_eval1 mean: \", medium_noaction_eval1[\"BERT_f1\"].mean())\n",
    "print(\"distilgpt_action_eval1 mean: \", distilgpt_action_eval1[\"BERT_f1\"].mean())\n",
    "print(\"distilgpt_noaction_eval1 mean: \", distilgpt_noaction_eval1[\"BERT_f1\"].mean())"
   ]
  },
  {
   "cell_type": "code",
   "execution_count": null,
   "metadata": {},
   "outputs": [],
   "source": []
  }
 ],
 "metadata": {
  "kernelspec": {
   "display_name": "base",
   "language": "python",
   "name": "python3"
  },
  "language_info": {
   "codemirror_mode": {
    "name": "ipython",
    "version": 3
   },
   "file_extension": ".py",
   "mimetype": "text/x-python",
   "name": "python",
   "nbconvert_exporter": "python",
   "pygments_lexer": "ipython3",
   "version": "3.10.9"
  }
 },
 "nbformat": 4,
 "nbformat_minor": 2
}
