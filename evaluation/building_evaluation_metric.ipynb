{
 "cells": [
  {
   "cell_type": "code",
   "execution_count": 1,
   "metadata": {},
   "outputs": [],
   "source": [
    "import json\n",
    "import pandas as pd\n",
    "import numpy as np"
   ]
  },
  {
   "cell_type": "code",
   "execution_count": 2,
   "metadata": {},
   "outputs": [
    {
     "data": {
      "text/plain": [
       "dict_keys(['train', 'dev', 'test'])"
      ]
     },
     "execution_count": 2,
     "metadata": {},
     "output_type": "execute_result"
    }
   ],
   "source": [
    "f = open(\"../data/abcd_v1.1.json\")\n",
    "data = json.load(f)\n",
    "data.keys()"
   ]
  },
  {
   "cell_type": "code",
   "execution_count": 3,
   "metadata": {},
   "outputs": [],
   "source": [
    "# evaluation w/o concatenating consequative agent actions \n",
    "df = pd.DataFrame(columns=[\"context\", \"true_agent_response\"])\n",
    "\n",
    "for element in data[\"test\"]:\n",
    "    first_entry = True\n",
    "    context = \"\"\n",
    "    for conversation in element[\"original\"]:\n",
    "            current_speaker = conversation[0]\n",
    "            #including action tags\n",
    "            if current_speaker == \"customer\" or current_speaker == \"action\":\n",
    "                context = f\"{context} {conversation[0]}: {conversation[1]}\"\n",
    "            \n",
    "            if current_speaker == \"agent\" and not first_entry:\n",
    "                true_agent_response = f\"{conversation[1]}\"\n",
    "                # add row to dataframe\n",
    "                new_row = {\"context\": context, \"true_agent_response\":true_agent_response}\n",
    "                df = pd.concat([df, pd.DataFrame([new_row])], ignore_index=True)\n",
    "                context = f\"{context} {conversation[0]}: {conversation[1]}\"\n",
    "            \n",
    "            if current_speaker == \"agent\" and first_entry:\n",
    "                context = f\"{context} {conversation[0]}: {conversation[1]}\"\n",
    "                first_entry = False\n",
    "    \n",
    "\n",
    "        \n"
   ]
  },
  {
   "cell_type": "code",
   "execution_count": 6,
   "metadata": {},
   "outputs": [],
   "source": [
    "# building evaluation metric WITH concatenating consequative agent utterances\n",
    "df = pd.DataFrame(columns=[\"context\", \"true_agent_response\"])\n",
    "\n",
    "for conversation in data[\"train\"]:\n",
    "    prev_speaker = conversation[\"original\"][0][0]\n",
    "    prev_utterance = \"\"\n",
    "    context = \"\"\n",
    "    customer_found = False\n",
    "    first_entry = True\n",
    "\n",
    "    for utterance in conversation[\"original\"]:\n",
    "        if utterance[0] == \"action\":\n",
    "            context =  f\"{context} {utterance[0]}: {utterance[1]}\"\n",
    "            continue\n",
    "        else:\n",
    "            curr_speaker = utterance[0]\n",
    "\n",
    "            if prev_speaker == curr_speaker:\n",
    "                prev_utterance = f\"{prev_utterance} {utterance[1]}\"\n",
    "            \n",
    "            else:\n",
    "                \n",
    "                if first_entry and prev_speaker==\"agent\":\n",
    "                    context =  f\"{context} {prev_speaker}: {prev_utterance}\"\n",
    "                    prev_utterance = f\"{utterance[1]}\"\n",
    "                    prev_speaker = curr_speaker\n",
    "                    first_entry = False\n",
    "                \n",
    "                else: \n",
    "                    if prev_speaker == \"customer\":\n",
    "                        context =  f\"{context} {prev_speaker}: {prev_utterance}\"\n",
    "                        customer_found = True\n",
    "                    \n",
    "                    if prev_speaker == \"agent\" and customer_found:\n",
    "                        true_agent_response = f\"{prev_utterance}\"\n",
    "                        customer_found = False\n",
    "                        new_row = {\"context\": context, \"true_agent_response\": true_agent_response}\n",
    "                        df = pd.concat([df, pd.DataFrame([new_row])], ignore_index=True)\n",
    "\n",
    "                        context = f\"{context} {prev_speaker}: {prev_utterance}\"\n",
    "                    \n",
    "                prev_speaker = curr_speaker\n",
    "                prev_utterance = utterance[1]\n",
    "\n",
    "# basically works but doesn't capture the last utterance between customer and agent          "
   ]
  },
  {
   "cell_type": "code",
   "execution_count": 7,
   "metadata": {},
   "outputs": [],
   "source": [
    "df.to_excel(\"evaluation_concat_withaction.xlsx\")"
   ]
  },
  {
   "cell_type": "code",
   "execution_count": 35,
   "metadata": {},
   "outputs": [],
   "source": [
    "df.to_csv(\"evaluation_csv_v1.csv\")"
   ]
  },
  {
   "cell_type": "markdown",
   "metadata": {},
   "source": [
    "Finding Average Length of Agent Responses"
   ]
  },
  {
   "cell_type": "code",
   "execution_count": 10,
   "metadata": {},
   "outputs": [],
   "source": [
    "# instead tokienize the sentence and then count the number of tokens used\n",
    "df[\"length\"] = df[\"true_agent_response\"].str.len()"
   ]
  },
  {
   "cell_type": "code",
   "execution_count": 14,
   "metadata": {},
   "outputs": [
    {
     "data": {
      "text/plain": [
       "52.364988290398124"
      ]
     },
     "execution_count": 14,
     "metadata": {},
     "output_type": "execute_result"
    }
   ],
   "source": [
    "df[\"length\"].mean()"
   ]
  },
  {
   "cell_type": "code",
   "execution_count": null,
   "metadata": {},
   "outputs": [],
   "source": []
  }
 ],
 "metadata": {
  "kernelspec": {
   "display_name": "base",
   "language": "python",
   "name": "python3"
  },
  "language_info": {
   "codemirror_mode": {
    "name": "ipython",
    "version": 3
   },
   "file_extension": ".py",
   "mimetype": "text/x-python",
   "name": "python",
   "nbconvert_exporter": "python",
   "pygments_lexer": "ipython3",
   "version": "3.10.9"
  },
  "orig_nbformat": 4
 },
 "nbformat": 4,
 "nbformat_minor": 2
}
