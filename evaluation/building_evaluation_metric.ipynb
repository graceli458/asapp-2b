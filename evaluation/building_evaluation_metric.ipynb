{
 "cells": [
  {
   "cell_type": "code",
   "execution_count": 1,
   "metadata": {},
   "outputs": [],
   "source": [
    "import json\n",
    "import pandas as pd\n",
    "import numpy as np"
   ]
  },
  {
   "cell_type": "code",
   "execution_count": 2,
   "metadata": {},
   "outputs": [
    {
     "data": {
      "text/plain": [
       "dict_keys(['train', 'dev', 'test'])"
      ]
     },
     "execution_count": 2,
     "metadata": {},
     "output_type": "execute_result"
    }
   ],
   "source": [
    "f = open(\"../data/abcd_v1.1.json\")\n",
    "data = json.load(f)\n",
    "data.keys()"
   ]
  },
  {
   "cell_type": "code",
   "execution_count": 5,
   "metadata": {},
   "outputs": [],
   "source": [
    "# testing \n",
    "df = pd.DataFrame(columns=[\"context\", \"true_agent_response\"])\n",
    "\n",
    "for element in data[\"test\"]:\n",
    "    first_entry = True\n",
    "    context = \"\"\n",
    "    for conversation in element[\"original\"]:\n",
    "            current_speaker = conversation[0]\n",
    "            if current_speaker == \"customer\":\n",
    "                context = f\"{context} {conversation[0]}: {conversation[1]}\"\n",
    "            \n",
    "            if current_speaker == \"agent\" and not first_entry:\n",
    "                true_agent_response = f\"{conversation[1]}\"\n",
    "                # add row to dataframe\n",
    "                new_row = {\"context\": context, \"true_agent_response\":true_agent_response}\n",
    "                df = pd.concat([df, pd.DataFrame([new_row])], ignore_index=True)\n",
    "                context = f\"{context} {conversation[0]}: {conversation[1]}\"\n",
    "            \n",
    "            if current_speaker == \"agent\" and first_entry:\n",
    "                context = f\"{context} {conversation[0]}: {conversation[1]}\"\n",
    "                first_entry = False\n",
    "    \n",
    "\n",
    "        \n"
   ]
  },
  {
   "cell_type": "code",
   "execution_count": 34,
   "metadata": {},
   "outputs": [],
   "source": [
    "df.to_excel(\"evaluation_excel_v1.xlsx\")"
   ]
  },
  {
   "cell_type": "code",
   "execution_count": 35,
   "metadata": {},
   "outputs": [],
   "source": [
    "df.to_csv(\"evaluation_csv_v1.csv\")"
   ]
  },
  {
   "cell_type": "markdown",
   "metadata": {},
   "source": [
    "Finding Average Length of Agent Responses"
   ]
  },
  {
   "cell_type": "code",
   "execution_count": 10,
   "metadata": {},
   "outputs": [],
   "source": [
    "# instead tokienize the sentence and then count the number of tokens used\n",
    "df[\"length\"] = df[\"true_agent_response\"].str.len()"
   ]
  },
  {
   "cell_type": "code",
   "execution_count": 14,
   "metadata": {},
   "outputs": [
    {
     "data": {
      "text/plain": [
       "52.364988290398124"
      ]
     },
     "execution_count": 14,
     "metadata": {},
     "output_type": "execute_result"
    }
   ],
   "source": [
    "df[\"length\"].mean()"
   ]
  },
  {
   "cell_type": "code",
   "execution_count": null,
   "metadata": {},
   "outputs": [],
   "source": []
  }
 ],
 "metadata": {
  "kernelspec": {
   "display_name": "base",
   "language": "python",
   "name": "python3"
  },
  "language_info": {
   "codemirror_mode": {
    "name": "ipython",
    "version": 3
   },
   "file_extension": ".py",
   "mimetype": "text/x-python",
   "name": "python",
   "nbconvert_exporter": "python",
   "pygments_lexer": "ipython3",
   "version": "3.10.9"
  },
  "orig_nbformat": 4
 },
 "nbformat": 4,
 "nbformat_minor": 2
}
