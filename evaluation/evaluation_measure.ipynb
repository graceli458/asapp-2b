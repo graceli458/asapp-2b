{
 "cells": [
  {
   "cell_type": "code",
   "execution_count": null,
   "metadata": {},
   "outputs": [],
   "source": [
    "from huggingface_hub import notebook_login\n",
    "notebook_login()"
   ]
  },
  {
   "cell_type": "code",
   "execution_count": null,
   "metadata": {},
   "outputs": [],
   "source": [
    "from transformers import AutoModelForMaskedLM, AutoModel, AutoTokenizer, GPT2Tokenizer, AutoModelForCausalLM\n",
    "import pandas as pd\n",
    "import numpy as np\n",
    "from evaluate import load\n",
    "bertscore = load(\"bertscore\")"
   ]
  },
  {
   "cell_type": "markdown",
   "metadata": {},
   "source": [
    "## Generating Agent Predictions "
   ]
  },
  {
   "cell_type": "code",
   "execution_count": 105,
   "metadata": {},
   "outputs": [],
   "source": [
    "def generate(context, model, tokenizer):\n",
    "  # create prompt\n",
    "  prompt = context + \" agent: \"\n",
    "  print(\"prompt: \", prompt)\n",
    "\n",
    "  # tokenize input (string -> tensor)\n",
    "  input_ids = tokenizer(prompt, return_tensors='pt').input_ids\n",
    "\n",
    "  # also save to csv to do a sanity check\n",
    "  output_ids = model.generate(input_ids, max_length=800, eos_token_id=tokenizer.encode(\"customer: \"))\n",
    "  \n",
    "  # decode output (tensor -> string)\n",
    "  pred_response = tokenizer.batch_decode(output_ids, skip_special_tokens = True)\n",
    "\n",
    "\n",
    "  # slice the output: output_ids = outputs[:, input_ids.shape[-1]:]\n",
    "  output_string = pred_response[0]\n",
    "  prefix = context + \" agent: \"\n",
    "  suffix = \"customer: \"\n",
    "  # og_output.append(output_string.removeprefix(prefix))\n",
    "  sliced_output = output_string.removeprefix(prefix)\n",
    "  # sliced_output = output_string.removeprefix(prefix).rstrip(suffix)\n",
    "\n",
    "\n",
    "  return sliced_output"
   ]
  },
  {
   "cell_type": "code",
   "execution_count": null,
   "metadata": {},
   "outputs": [],
   "source": [
    "model = AutoModelForCausalLM.from_pretrained(\"../finetuning/distilgpt2-finetuned-wikitext2/checkpoint-5000\").eval()\n",
    "tokenizer = AutoTokenizer.from_pretrained(\"gpt2\")"
   ]
  },
  {
   "cell_type": "code",
   "execution_count": 106,
   "metadata": {},
   "outputs": [
    {
     "name": "stderr",
     "output_type": "stream",
     "text": [
      "The attention mask and the pad token id were not set. As a consequence, you may observe unexpected behavior. Please pass your input's `attention_mask` to obtain reliable results.\n",
      "Setting `pad_token_id` to `eos_token_id`:23144 for open-end generation.\n"
     ]
    },
    {
     "name": "stdout",
     "output_type": "stream",
     "text": [
      "prompt:   agent: Hello how can I help you today? customer: Hi good morning. customer: I just have a quick question agent: sure thing customer: Is it possible to add an item to an existing order? customer: I had forgotten to add it earlier. agent: I can help with that agent: Can I start with your full name or account id? customer: Sanya Afzal agent: The account is now pulled up, now can I have the account id and order id to verify identity. customer: Yes. customer: My account ID is OWGCTKCE0R customer: Order ID: 1950650472 agent: Can you tell me the current shipping status of the order now that the identity verification is complete? customer: The shipping status says \"order received.\" agent: \n"
     ]
    },
    {
     "name": "stderr",
     "output_type": "stream",
     "text": [
      "/var/folders/ml/t6mthscj76j1mqyxmp4kk9880000gn/T/ipykernel_20159/767821616.py:13: FutureWarning: The behavior of DataFrame concatenation with empty or all-NA entries is deprecated. In a future version, this will no longer exclude empty or all-NA columns when determining the result dtypes. To retain the old behavior, exclude the relevant entries before the concat operation.\n",
      "  output_df = pd.concat([output_df, pd.DataFrame([new_row])], ignore_index=True)\n",
      "The attention mask and the pad token id were not set. As a consequence, you may observe unexpected behavior. Please pass your input's `attention_mask` to obtain reliable results.\n",
      "Setting `pad_token_id` to `eos_token_id`:23144 for open-end generation.\n",
      "The attention mask and the pad token id were not set. As a consequence, you may observe unexpected behavior. Please pass your input's `attention_mask` to obtain reliable results.\n",
      "Setting `pad_token_id` to `eos_token_id`:23144 for open-end generation.\n"
     ]
    },
    {
     "name": "stdout",
     "output_type": "stream",
     "text": [
      "prompt:   agent: Hello, how can I help you today? customer: Hi, so... I feel kind of silly. It's been a while since I was on the site and I'm trying to log in customer: but i cant seem to remember my username :( agent: Don't feel silly! That is so common! agent: \n",
      "prompt:   agent: how may i help you customer: I'm thinking of buying some things, and I needed to know how to get a premium membership. agent: i see, so you are inquiring about how to get a subscription today? agent: i can help with that, can i get your name please? agent: are you there agent: i have your answer here agent: membership is based on the dollar value of purchases within 1 yyear agent: \n"
     ]
    },
    {
     "name": "stderr",
     "output_type": "stream",
     "text": [
      "The attention mask and the pad token id were not set. As a consequence, you may observe unexpected behavior. Please pass your input's `attention_mask` to obtain reliable results.\n",
      "Setting `pad_token_id` to `eos_token_id`:23144 for open-end generation.\n"
     ]
    },
    {
     "name": "stdout",
     "output_type": "stream",
     "text": [
      "prompt:   agent: How can I help you? customer: I need to check the price on a Calvin_Klein shirt I'm buying for my husband.   The catalog price is $30 dollars more than your competition. agent: Can I please have your name? customer: Alessandro Phoenix agent: Can I have your accound and order ID? customer: Account number is ANGWRK5PM3.   Order ID is 8967969572. agent: I apologize but sometimes our prices change and it's out of our control. customer: $30 more than the competition is a pretty drastic change!   Don't you offer price match? agent: I understand your frustration. Can I offer you a promo code? customer: Yes.    How much is it worth? agent: It will save you 20% agent: Would you like the promo code? That's the best I can do. customer: 20% of $94 is less than $20.   Your competition has the same shirt for $30 less. agent: As I said I understand your frustration, but our algorithms will sometimes drastically raise prices. I'm not able to control that. customer: Is there someone who can? agent: \n"
     ]
    },
    {
     "name": "stderr",
     "output_type": "stream",
     "text": [
      "The attention mask and the pad token id were not set. As a consequence, you may observe unexpected behavior. Please pass your input's `attention_mask` to obtain reliable results.\n",
      "Setting `pad_token_id` to `eos_token_id`:23144 for open-end generation.\n"
     ]
    },
    {
     "name": "stdout",
     "output_type": "stream",
     "text": [
      "prompt:   agent: hello how may i be of service? customer: The website is too slow. agent: if i udnerstand correctly, you are having issues with our website, specifically that it is loading too slow? customer: Yes, it keeps loading like forever. agent: ok, i can definitely help you with that today agent: first i will write a ticket to our internal support team notifying them of this issue agent: that will fix it in the long run agent: but for now, can you please first try logging out and back into the site? agent: to see if that fixes the issue customer: I just tried it, it didn't worked. agent: ok, now please try browsing other websites, are they having the same speed issues? customer: They sort of have that issue. agent: \n"
     ]
    },
    {
     "name": "stderr",
     "output_type": "stream",
     "text": [
      "The attention mask and the pad token id were not set. As a consequence, you may observe unexpected behavior. Please pass your input's `attention_mask` to obtain reliable results.\n",
      "Setting `pad_token_id` to `eos_token_id`:23144 for open-end generation.\n"
     ]
    },
    {
     "name": "stdout",
     "output_type": "stream",
     "text": [
      "prompt:   agent: Hello, this is AcmeBrands customer service. How may I help you? customer: Hi. I'm trying to buy something but my cart won't seem to update when I add it. agent: Okay, have you tried to log out and back into your account? agent: If that doesn't work, try to refresh the page and add the item again. agent: Hello? customer: sorry i'm here, I'm tried both of those and they don't work agent: Okay, please check if the item is out of stock. This information is on the bottom left of the product page. customer: It says the item is in stock. agent: I see, unfortunately we're running out of options for fixing this on your end. If you would like, I can make the purchase for you. customer: Ok please do that. agent: Sure, I will need your credit card number, the expiration date, and the brand/item you are trying to buy. customer: Ok can I get back with you on that? I don't have access to it right now agent: Of course, just get back to customer support when you are ready. Is there anything else I can help you with? customer: nope that is it, thanks. agent: \n"
     ]
    },
    {
     "name": "stderr",
     "output_type": "stream",
     "text": [
      "The attention mask and the pad token id were not set. As a consequence, you may observe unexpected behavior. Please pass your input's `attention_mask` to obtain reliable results.\n",
      "Setting `pad_token_id` to `eos_token_id`:23144 for open-end generation.\n"
     ]
    },
    {
     "name": "stdout",
     "output_type": "stream",
     "text": [
      "prompt:   agent: Thank you for shopping with AcmeBrands! How may I assist you? customer: Hello! Is there any way i can add an item onto an order i just placed? I forgot to get it in my cart agent: I can find out! May I have your full name? customer: Name: Chloe Zhang customer: Account ID: TL2EBL76GD incase you need it customer: and im sure you need the order id customer: 7466453187 agent: Thanks, that helps! customer: :D agent: Do you know the shipping status of your order? customer: Its already in transit, but i just placed my order hours ago, you guys are good! agent: We aim to please! Although maybe a little slower would have helped more in this situation. agent: What is your membership level? customer: very true, i was hoping that was just an automated message. I am guest level agent: Unfortunately, as a guest, I cannot do anything to ship it out automatically for you. You will need to place a new order. I apologize for the inconvenience. customer: What if, i place this order and my membership status goes UP, i believe i am right on the cusp, would i then be able to combine orders maybe? agent: \n"
     ]
    },
    {
     "name": "stderr",
     "output_type": "stream",
     "text": [
      "The attention mask and the pad token id were not set. As a consequence, you may observe unexpected behavior. Please pass your input's `attention_mask` to obtain reliable results.\n",
      "Setting `pad_token_id` to `eos_token_id`:23144 for open-end generation.\n"
     ]
    },
    {
     "name": "stdout",
     "output_type": "stream",
     "text": [
      "prompt:   agent: Hello and thank you for contacting AcmeBrand. How may I help you? customer: Hello! customer: I'd like to check my order status, but I forgot my password. agent: Oh alright, that shou;dn't be too much of an issue. Let's try to get your password reset. customer: Thank you agent: Could you give me you full name so I can pull up your account please? customer: Yes, it is Alessandro Phoenix agent: Alright the next bit of information I'll need is your username. do you have that available? customer: I don't, sorry. Would my phone number or address be sufficient? agent: Not a problem, let's recover your username first then. agent: I will need your phone number for this part so go ahead and put that in now. agent: In addition to your phone number I'll also need either your zip code of email address in order to verify your identity. agent: or* customer: Phone number is (499) 412-7409 customer: Zip code is 57820 agent: Great, everything looks good. agent: Your username is aphoenix1 agent: Now back to the password. agent: Do you have a pin  number available? customer: I don't, sorry. customer: my member level is guest, is that why? agent: Not a problem. I'm goign to ask you your secret questions for security purposes. agent: What was the name of your first pet? customer: Martinez agent: \n"
     ]
    },
    {
     "name": "stderr",
     "output_type": "stream",
     "text": [
      "The attention mask and the pad token id were not set. As a consequence, you may observe unexpected behavior. Please pass your input's `attention_mask` to obtain reliable results.\n",
      "Setting `pad_token_id` to `eos_token_id`:23144 for open-end generation.\n"
     ]
    },
    {
     "name": "stdout",
     "output_type": "stream",
     "text": [
      "prompt:   agent: Hello, Thank you for contacting us today. How can I help you? customer: hello, i would like to pay to keep my premium subscription shopping service active agent: Sure thing. Lets see what I can do to help you with this. agent: \n"
     ]
    },
    {
     "name": "stderr",
     "output_type": "stream",
     "text": [
      "The attention mask and the pad token id were not set. As a consequence, you may observe unexpected behavior. Please pass your input's `attention_mask` to obtain reliable results.\n",
      "Setting `pad_token_id` to `eos_token_id`:23144 for open-end generation.\n",
      "The attention mask and the pad token id were not set. As a consequence, you may observe unexpected behavior. Please pass your input's `attention_mask` to obtain reliable results.\n",
      "Setting `pad_token_id` to `eos_token_id`:23144 for open-end generation.\n"
     ]
    },
    {
     "name": "stdout",
     "output_type": "stream",
     "text": [
      "prompt:   agent: Hello, how can I help you? customer: Hey, I need some help with my promo code. It keeps saying invalid. agent: Okay, can I have your name please? customer: Sure, my name is Albert Sanders. customer: How old is the promo code? agent: The promo code begins the day you receive it. customer: Okay, so I got this code 9 days ago. Is that okay? agent: Unfortunately the promo code has expired. They typically last for only 7 days. customer: Oh okay, that's too bad agent: What is your membership level? customer: Silver agent: You are in luck, as a Silver member I can just simply generate a new promo code for you. agent: Here you go: EVD61 customer: Great! Thank you! customer: I knew being a silver member would come in handy. agent: You're welcome, do you need anything else? customer: No, that's all customer: Thank you agent: \n",
      "prompt:   agent: Hello. How can i help you today? customer: Oh man, well I placed an order but now I can't check on it because I lost my phone that as two factor authentication on it. agent: oh no! agent: \n"
     ]
    },
    {
     "name": "stderr",
     "output_type": "stream",
     "text": [
      "The attention mask and the pad token id were not set. As a consequence, you may observe unexpected behavior. Please pass your input's `attention_mask` to obtain reliable results.\n",
      "Setting `pad_token_id` to `eos_token_id`:23144 for open-end generation.\n"
     ]
    },
    {
     "name": "stdout",
     "output_type": "stream",
     "text": [
      "prompt:   agent: Hello, Thank you for contacting us today. How may I help you. customer: Hello, I made an order recently and the package hasn't arrived yet. I would like to know the status of it. agent: I'm so sorry to hear you havent reveived your package yet. I'll be happy to look into it for you. agent: Could you provide me with your full name please? customer: My name is Alessandro Phoenix agent: Thank you Alessandro, I was able to pull up your account agent: Could you also give me your Username, Email address and Order ID so I can validate the purchase? customer: My username is ap610366, my email is ap610366@email.com, and my order ID is 0215031231 agent: \n"
     ]
    },
    {
     "name": "stderr",
     "output_type": "stream",
     "text": [
      "The attention mask and the pad token id were not set. As a consequence, you may observe unexpected behavior. Please pass your input's `attention_mask` to obtain reliable results.\n",
      "Setting `pad_token_id` to `eos_token_id`:23144 for open-end generation.\n"
     ]
    },
    {
     "name": "stdout",
     "output_type": "stream",
     "text": [
      "prompt:   agent: Good afternoon, how can I help you today? customer: Hi. I recently ordered one item but the email confirmation shows two items. I just want to verify that I am only getting one. agent: Alright, I can look in to this for you. agent: \n"
     ]
    },
    {
     "name": "stderr",
     "output_type": "stream",
     "text": [
      "The attention mask and the pad token id were not set. As a consequence, you may observe unexpected behavior. Please pass your input's `attention_mask` to obtain reliable results.\n",
      "Setting `pad_token_id` to `eos_token_id`:23144 for open-end generation.\n",
      "The attention mask and the pad token id were not set. As a consequence, you may observe unexpected behavior. Please pass your input's `attention_mask` to obtain reliable results.\n",
      "Setting `pad_token_id` to `eos_token_id`:23144 for open-end generation.\n"
     ]
    },
    {
     "name": "stdout",
     "output_type": "stream",
     "text": [
      "prompt:   agent: Hello, how may I help you today? customer: Hi! The promo code I'm trying to use isnt working agent: I am so sorry to hear that you are having issues with your promo code. agent: I will do my best to resolve your issue. customer: ok agent: Can you please tell me your full name or account ID? customer: Alessandro Phoenix agent: Can you please tell me how old the promo code is? customer: 9 days old agent: Our records indicate that there is no issue with your promo code. agent: Can you please tell me your membership level? customer: Silver agent: Because your satisfaction is extremely important to us, we will provide you with a new promo code. customer: awesome, thanks agent: Your new promo code is 5U84I. agent: Please try to use the code within 7 days. agent: Is there anything else I can help you with today? customer: No, that was all agent: \n",
      "prompt:   agent: Hello, thank you for reaching out to us today. How may I help you? customer: Hi I can't get into my account because I have the 2FA set up and I lost my phone. agent: I'm so sorry you lost your phone. Let's try getting the 2FA reset for you. agent: Could you provie me with your Full name or Account ID? customer: Okay great customer: Yeah my name's Joyce Wu customer: My username is joycewu4 agent: \n"
     ]
    },
    {
     "name": "stderr",
     "output_type": "stream",
     "text": [
      "The attention mask and the pad token id were not set. As a consequence, you may observe unexpected behavior. Please pass your input's `attention_mask` to obtain reliable results.\n",
      "Setting `pad_token_id` to `eos_token_id`:23144 for open-end generation.\n"
     ]
    },
    {
     "name": "stdout",
     "output_type": "stream",
     "text": [
      "prompt:   agent: Thanks for contacting Acme, how may I help you today? customer: I'm interested in the boots by Tommy Hilfiger, and I had some questions about the product. agent: Certainly, I can help you with that agent: What would you like to know about the boots? customer: It's hard to tell by the photo, is the shoelace color black or dark brown? agent: Excellent question.  The laces are indeed black. agent: Some of them do wear a little over time, and by design, they tend to take on a bit of dark-brown hue with age, but out of the box, your laces will be black customer: Great, that's all I needed to know. agent: \n"
     ]
    },
    {
     "name": "stderr",
     "output_type": "stream",
     "text": [
      "The attention mask and the pad token id were not set. As a consequence, you may observe unexpected behavior. Please pass your input's `attention_mask` to obtain reliable results.\n",
      "Setting `pad_token_id` to `eos_token_id`:23144 for open-end generation.\n"
     ]
    },
    {
     "name": "stdout",
     "output_type": "stream",
     "text": [
      "prompt:   agent: good afternoon, how can I help you? customer: Can I please check on the status of my subscription customer: Crystal Minh customer: 7VTFJAEEOP customer: 3628727230 agent: sure, one moment agent: now let me check agent: What do you want to know about your subscription? customer: When is it too customer: When is the expiration agent: expires in three days from now, the bill is $55 customer: Can you please pay for it with the card on file agent: I will also send you a link with the profile so you can see more information on the subject. agent: sure thing! customer: Great that’s it agent: so you know we will use your card associated with the account agent: all set now ! customer: Great night agent: \n"
     ]
    },
    {
     "name": "stderr",
     "output_type": "stream",
     "text": [
      "The attention mask and the pad token id were not set. As a consequence, you may observe unexpected behavior. Please pass your input's `attention_mask` to obtain reliable results.\n",
      "Setting `pad_token_id` to `eos_token_id`:23144 for open-end generation.\n"
     ]
    },
    {
     "name": "stdout",
     "output_type": "stream",
     "text": [
      "prompt:   agent: Hi! Thanks for contacting Acme support. How can I help you today? customer: I must have had an item go to purchase from my cart agent: I'm not sure what you're trying to say. Can you try explaining the issue again? customer: It billed me for a shirt that is two sizes too big but I didn't have a chance to remove it from my cart before it charged me for it agent: Okay, let me look into that for you. Can I get your full name? customer: chloe zhang agent: Okay, Chloe, have you received the item? customer: yes customer: it arrived a few moments ago agent: Okay so let's get this straight. You have the item and you want to return it? customer: yes, and get refunded agent: Okay, let's bring up the order. Can I get your username, email address and Order ID? customer: user: cz67UIRHJJ customer: cz34@email.com customer: 4035060378 agent: One moment, Chloe. agent: I found the error and I'm going to process a credit for you. customer: cool agent: \n"
     ]
    },
    {
     "name": "stderr",
     "output_type": "stream",
     "text": [
      "The attention mask and the pad token id were not set. As a consequence, you may observe unexpected behavior. Please pass your input's `attention_mask` to obtain reliable results.\n",
      "Setting `pad_token_id` to `eos_token_id`:23144 for open-end generation.\n"
     ]
    },
    {
     "name": "stdout",
     "output_type": "stream",
     "text": [
      "prompt:   agent: Hi, thanks for contacting Acme customer support. How can I help you today? customer: Hello, I am trying to get on the website but it is running really slow. agent: That stinks. I can look into that for you. May I start by getting your full name? customer: Crystal Minh agent: Okay Ms. Minh. I'm going to try a few different things to try and diagnose the issue, is that okay? customer: Sure agent: \n"
     ]
    },
    {
     "name": "stderr",
     "output_type": "stream",
     "text": [
      "The attention mask and the pad token id were not set. As a consequence, you may observe unexpected behavior. Please pass your input's `attention_mask` to obtain reliable results.\n",
      "Setting `pad_token_id` to `eos_token_id`:23144 for open-end generation.\n"
     ]
    },
    {
     "name": "stdout",
     "output_type": "stream",
     "text": [
      "prompt:   agent: AcmeBrands, how may I help you? customer: I would like to check the status of my order please customer: I think I gave you the wrong credit card information agent: Let me help you with that. agent: Could I have your full name or account id? customer: Great . my order number is 5803593072 customer: name is Crystal Minh agent: Could I have your account id and order id to verify your identity? customer: my id is cmh84  and order 5803593072 agent: Is that the right account id? customer: yes customer: 5803593072 agent: It looks like a username not an account id? customer: sorry I don't have my account id agent: Ok customer: my telephone number is 870 188 0693 if that helps agent: Is this change of payment method for a current order or just to change in your account for future orders? customer: for the current orders as well as future agent: ok agent: What would you like to use as your payment method? customer: can I use my discover card customer: 6011123412341234 agent: Ok, your new payment method has been updated on the system. customer: thank you . Expiration is 09/24 agent: Your expiration date has been updated in the system. agent: Can I help you with anything else? customer: Do you know what happened why my payment wasn't accepted agent: It might just no have been typed in the system correctly. agent: Can I help you with anything else? customer: oh ok. no thank you agent: \n"
     ]
    },
    {
     "name": "stderr",
     "output_type": "stream",
     "text": [
      "The attention mask and the pad token id were not set. As a consequence, you may observe unexpected behavior. Please pass your input's `attention_mask` to obtain reliable results.\n",
      "Setting `pad_token_id` to `eos_token_id`:23144 for open-end generation.\n",
      "The attention mask and the pad token id were not set. As a consequence, you may observe unexpected behavior. Please pass your input's `attention_mask` to obtain reliable results.\n",
      "Setting `pad_token_id` to `eos_token_id`:23144 for open-end generation.\n"
     ]
    },
    {
     "name": "stdout",
     "output_type": "stream",
     "text": [
      "prompt:   customer: Hi customer: I have an issue with my order customer: Can you help? agent: Hello, how may I help you today? agent: \n",
      "prompt:   agent: Hello, how can i help you customer: Hi. I have this promo code but i just can't get it to work. agent: I will be happy to help you with this issue. agent: \n"
     ]
    },
    {
     "name": "stderr",
     "output_type": "stream",
     "text": [
      "The attention mask and the pad token id were not set. As a consequence, you may observe unexpected behavior. Please pass your input's `attention_mask` to obtain reliable results.\n",
      "Setting `pad_token_id` to `eos_token_id`:23144 for open-end generation.\n"
     ]
    },
    {
     "name": "stdout",
     "output_type": "stream",
     "text": [
      "prompt:   agent: Hello! Thank you for shopping with AcmeBrands. How may I assist you? customer: hi agent: Hello! agent: How may I help you today? customer: I would like to access my account customer: but I've forgotten my username agent: I'll be glad to help you with that. May I get your full name, please? customer: Rodriguez Domingo agent: Thank you, Rodriguez. To help me verify your identity, would you please provide your zip code, phone number, and email address? Two out of those three options would be fine. customer: 1172 customer: (956) 645-6350 customer: rodriguezdomingo971@email.com agent: Thank you, you're verified! agent: Your username is rdomingo1 and you may use it now to login and complete your purchase. agent: Is there anything more I may help you with today? customer: Thanks customer: That's all agent: \n"
     ]
    },
    {
     "name": "stderr",
     "output_type": "stream",
     "text": [
      "The attention mask and the pad token id were not set. As a consequence, you may observe unexpected behavior. Please pass your input's `attention_mask` to obtain reliable results.\n",
      "Setting `pad_token_id` to `eos_token_id`:23144 for open-end generation.\n",
      "The attention mask and the pad token id were not set. As a consequence, you may observe unexpected behavior. Please pass your input's `attention_mask` to obtain reliable results.\n",
      "Setting `pad_token_id` to `eos_token_id`:23144 for open-end generation.\n"
     ]
    },
    {
     "name": "stdout",
     "output_type": "stream",
     "text": [
      "prompt:   customer: Hello, I am Norman Bouchard agent: Hello Norman, Thank you for contacting us today. How may I help you? customer: I think I got charged a different amount for my order customer: It says it was $400 but the item was only $99 customer: Order ID: 4411508179 customer: So not sure if the email is wrong agent: That seems like a big difference i'll do my best to get it sorted. agent: \n",
      "prompt:   agent: Hello, thank you for contacting AcmeCorp, how may I help you today? customer: Hello. I wanted to purchase something, but my credit card keeps getting rejected. customer: Would you happen to know why it's considered invalid? agent: Oh no, I would happy to help. agent: Lets try a few options. Can you please check the card to make sure the expiration date is still valid? customer: Yes, the expiration date is still valid. agent: \n"
     ]
    }
   ],
   "source": [
    "df = pd.read_csv(\"evaluation_csv_v1.csv\")\n",
    "# need to do subsample\n",
    "df_subsample = df.sample(n=25, random_state=1) \n",
    "output_df = pd.DataFrame(columns=[\"context\", \"true_agent_response\", \"predicted_response\", 'BERT_precision', 'BERT_recall', \"BERT_f1\"])\n",
    "all_pred_responses, all_true_responses = [], []\n",
    "\n",
    "for index, row in df_subsample.iterrows():\n",
    "    pred_response = generate(row[\"context\"], model, tokenizer)\n",
    "    all_pred_responses.append(pred_response)\n",
    "    all_true_responses.append(row[\"true_agent_response\"]) \n",
    "    similarity_score = bertscore.compute(predictions=[pred_response], references=[row[\"true_agent_response\"]], lang=\"en\")\n",
    "    new_row = {\"context\": row[\"context\"], \"true_agent_response\":row[\"true_agent_response\"], \"predicted_response\": pred_response, 'BERT_precision':similarity_score[\"precision\"][0], \"BERT_recall\": similarity_score[\"recall\"][0], \"BERT_f1\": similarity_score[\"f1\"][0]}\n",
    "    output_df = pd.concat([output_df, pd.DataFrame([new_row])], ignore_index=True)"
   ]
  },
  {
   "cell_type": "code",
   "execution_count": 107,
   "metadata": {},
   "outputs": [],
   "source": [
    "output_df.to_excel(\"output_v3.xlsx\")"
   ]
  },
  {
   "cell_type": "markdown",
   "metadata": {},
   "source": [
    "## Evaluation Using BERT"
   ]
  },
  {
   "cell_type": "code",
   "execution_count": 88,
   "metadata": {},
   "outputs": [],
   "source": [
    "from evaluate import load\n",
    "bertscore = load(\"bertscore\")\n",
    "predictions = [\"hello there\", \"general kenobi\"]\n",
    "references = [\"hello there\", \"general kenobi\"]\n",
    "results = bertscore.compute(predictions=predictions, references=references, lang=\"en\")"
   ]
  },
  {
   "cell_type": "code",
   "execution_count": 89,
   "metadata": {},
   "outputs": [
    {
     "data": {
      "text/plain": [
       "{'precision': [0.9999998807907104, 1.0000001192092896],\n",
       " 'recall': [0.9999998807907104, 1.0000001192092896],\n",
       " 'f1': [0.9999998807907104, 1.0000001192092896],\n",
       " 'hashcode': 'roberta-large_L17_no-idf_version=0.3.12(hug_trans=4.28.0)'}"
      ]
     },
     "execution_count": 89,
     "metadata": {},
     "output_type": "execute_result"
    }
   ],
   "source": [
    "results"
   ]
  }
 ],
 "metadata": {
  "kernelspec": {
   "display_name": "base",
   "language": "python",
   "name": "python3"
  },
  "language_info": {
   "codemirror_mode": {
    "name": "ipython",
    "version": 3
   },
   "file_extension": ".py",
   "mimetype": "text/x-python",
   "name": "python",
   "nbconvert_exporter": "python",
   "pygments_lexer": "ipython3",
   "version": "3.10.9"
  },
  "orig_nbformat": 4
 },
 "nbformat": 4,
 "nbformat_minor": 2
}
